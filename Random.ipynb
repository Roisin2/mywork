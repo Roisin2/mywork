{
 "cells": [
  {
   "cell_type": "markdown",
   "metadata": {},
   "source": [
    "# Random Numbers\n",
    "\n",
    "***"
   ]
  },
  {
   "cell_type": "markdown",
   "metadata": {},
   "source": [
    "## Prerequisites.\n",
    "***\n",
    "\n",
    "https://numpy.org/doc/stable/reference/random/index.html"
   ]
  },
  {
   "cell_type": "code",
   "execution_count": 49,
   "metadata": {},
   "outputs": [],
   "source": [
    "# Numerical arrays and Random numbers\n",
    "import numpy as np\n",
    "\n",
    "# plot\n",
    "import matplotlib.pyplot as plt\n"
   ]
  },
  {
   "cell_type": "markdown",
   "metadata": {},
   "source": [
    "## Generate Random Integers.\n",
    "***"
   ]
  },
  {
   "cell_type": "code",
   "execution_count": 7,
   "metadata": {},
   "outputs": [],
   "source": [
    "rng = np.random.default_rng()\n"
   ]
  },
  {
   "cell_type": "code",
   "execution_count": 8,
   "metadata": {},
   "outputs": [
    {
     "data": {
      "text/plain": [
       "0.752186701915571"
      ]
     },
     "execution_count": 8,
     "metadata": {},
     "output_type": "execute_result"
    }
   ],
   "source": [
    "# Generate one random float uniformly distributed over the range [0, 1)\n",
    "rng.random()"
   ]
  },
  {
   "cell_type": "code",
   "execution_count": 5,
   "metadata": {},
   "outputs": [
    {
     "data": {
      "text/plain": [
       "array([-0.77238387, -1.03416514,  2.05020651,  1.68075413, -0.84765684,\n",
       "        0.89324418, -0.7253507 , -2.6555854 , -1.7752627 , -0.73870524])"
      ]
     },
     "execution_count": 5,
     "metadata": {},
     "output_type": "execute_result"
    }
   ],
   "source": [
    "# Generate an array of 10 numbers according to a unit Gaussian distribution.\n",
    "rng.standard_normal(10)"
   ]
  },
  {
   "cell_type": "code",
   "execution_count": 9,
   "metadata": {},
   "outputs": [
    {
     "data": {
      "text/plain": [
       "array([1, 3, 7, 9, 5, 9, 5, 3, 2, 7, 1, 2, 1, 5, 6, 2, 4, 2, 7, 9, 8, 7,\n",
       "       8, 6, 5, 9, 8, 5, 2, 1, 6, 8, 9, 0, 8, 3, 4, 5, 6, 4, 7, 4, 8, 3,\n",
       "       1, 2, 6, 1, 1, 1, 6, 8, 0, 7, 0, 5, 8, 3, 7, 2, 7, 1, 7, 1, 4, 0,\n",
       "       5, 4, 9, 8, 6, 4, 9, 7, 4, 1, 4, 5, 4, 8, 9, 0, 9, 8, 8, 2, 7, 0,\n",
       "       4, 6, 6, 1, 4, 8, 4, 8, 1, 0, 5, 0], dtype=int64)"
      ]
     },
     "execution_count": 9,
     "metadata": {},
     "output_type": "execute_result"
    }
   ],
   "source": [
    "# Generate an array of 5 integers uniformly over the range [0, 10).\n",
    "rng.integers(low=0, high=10, size=100)"
   ]
  },
  {
   "cell_type": "code",
   "execution_count": 29,
   "metadata": {},
   "outputs": [
    {
     "data": {
      "text/plain": [
       "array([4, 8, 5, ..., 9, 9, 6], dtype=int64)"
      ]
     },
     "execution_count": 29,
     "metadata": {},
     "output_type": "execute_result"
    }
   ],
   "source": [
    "# Generate 10,000 intergers over the range [0, 10).\n",
    "x = rng.integers (low=1, high=10, size=10000, endpoint=True) \n",
    "\n",
    "# Show x\n",
    "x\n",
    "\n"
   ]
  },
  {
   "cell_type": "code",
   "execution_count": 30,
   "metadata": {},
   "outputs": [
    {
     "data": {
      "text/plain": [
       "(array([ 1,  2,  3,  4,  5,  6,  7,  8,  9, 10], dtype=int64),\n",
       " array([ 989, 1016, 1000,  984,  943, 1012,  962, 1005, 1049, 1040],\n",
       "       dtype=int64))"
      ]
     },
     "execution_count": 30,
     "metadata": {},
     "output_type": "execute_result"
    }
   ],
   "source": [
    "# Get the counts.\n",
    "values, counts =np.unique(x, return_counts=True)\n",
    "\n",
    "# show values and counts\n",
    "values, counts"
   ]
  },
  {
   "cell_type": "code",
   "execution_count": 31,
   "metadata": {},
   "outputs": [
    {
     "data": {
      "text/plain": [
       "<BarContainer object of 10 artists>"
      ]
     },
     "execution_count": 31,
     "metadata": {},
     "output_type": "execute_result"
    },
    {
     "data": {
      "image/png": "[encoded data removed]",
      "text/plain": [
       "<Figure size 640x480 with 1 Axes>"
      ]
     },
     "metadata": {},
     "output_type": "display_data"
    }
   ],
   "source": [
    "# Plot Bar Chart \n",
    "plt.bar(values, counts)"
   ]
  },
  {
   "cell_type": "markdown",
   "metadata": {},
   "source": [
    "# Uniform Distribution\n",
    "***"
   ]
  },
  {
   "cell_type": "code",
   "execution_count": 32,
   "metadata": {},
   "outputs": [
    {
     "data": {
      "text/plain": [
       "array([3.35327451, 5.14665458, 0.9979291 , ..., 4.96722209, 1.9104473 ,\n",
       "       7.7972664 ])"
      ]
     },
     "execution_count": 32,
     "metadata": {},
     "output_type": "execute_result"
    }
   ],
   "source": [
    "# Generate 10000 floats uniformly distributed over the range [0,10). \n",
    "x = rng.uniform(low=0.0, high=10.0, size = 10000)\n",
    "\n",
    "# show\n",
    "x"
   ]
  },
  {
   "cell_type": "code",
   "execution_count": 34,
   "metadata": {},
   "outputs": [
    {
     "data": {
      "text/plain": [
       "(array([1.45390792e-03, 2.33353371e-03, 2.59795596e-03, ...,\n",
       "        9.99850269e+00, 9.99866651e+00, 9.99987376e+00]),\n",
       " array([1, 1, 1, ..., 1, 1, 1], dtype=int64),\n",
       " 10000,\n",
       " 10000)"
      ]
     },
     "execution_count": 34,
     "metadata": {},
     "output_type": "execute_result"
    }
   ],
   "source": [
    "# Get the counts.\n",
    "values, counts =np.unique(x, return_counts=True)\n",
    "\n",
    "# show values and counts\n",
    "values, counts, values.size, counts.size "
   ]
  },
  {
   "cell_type": "code",
   "execution_count": 35,
   "metadata": {},
   "outputs": [
    {
     "data": {
      "text/plain": [
       "array([1.49184697, 3.8548763 , 8.30098606, 9.98789525, 6.77460317,\n",
       "       3.21977363, 6.840366  , 8.39245417, 0.50974526, 1.87408319,\n",
       "       9.47175732, 1.78286188, 8.15399316, 5.43141833, 2.07647875,\n",
       "       8.7777308 , 4.22522431, 3.69091418, 7.13599182, 6.60836284,\n",
       "       3.13930461, 0.85163293, 2.8117265 , 1.17190402, 3.24817411,\n",
       "       9.12334296, 3.78152916, 8.84165116, 3.38577279, 7.59308317,\n",
       "       5.25674189, 7.56175759, 1.6840032 , 8.90217593, 6.98682269,\n",
       "       4.18730537, 0.21756556, 1.7531086 , 9.74939741, 1.19563798,\n",
       "       4.74518278, 8.32605221, 2.92323574, 9.19973779, 7.14748188,\n",
       "       1.60938069, 5.5204383 , 4.91622024, 2.35181481, 8.1490706 ,\n",
       "       6.26327895, 5.8487616 , 8.67885522, 9.37105665, 0.44161732,\n",
       "       7.29924503, 9.17334175, 8.11004619, 4.13966008, 1.65932136,\n",
       "       8.51343921, 9.39025843, 4.04184095, 6.38658355, 3.87466755,\n",
       "       1.87547566, 3.78332724, 4.45385867, 7.09188367, 6.20296629,\n",
       "       3.01439694, 7.68032107, 0.85734921, 5.03411506, 9.66008581,\n",
       "       6.00158283, 1.9890706 , 8.48996912, 3.26287922, 4.32472361,\n",
       "       3.76314996, 6.42981432, 3.20042916, 8.91438332, 4.8125445 ,\n",
       "       6.14433528, 2.71670314, 2.83676904, 6.78584329, 3.94124636,\n",
       "       4.87230785, 9.14435624, 9.42838227, 9.54613496, 1.01031809,\n",
       "       9.50275745, 3.61416299, 4.97493629, 1.38548013, 6.31270918])"
      ]
     },
     "execution_count": 35,
     "metadata": {},
     "output_type": "execute_result"
    }
   ],
   "source": [
    "# Generate 100 floats uniformly distributed over the range [0,10). \n",
    "x = rng.uniform(low=0.0, high=10.0, size = 100)\n",
    "\n",
    "# show\n",
    "x"
   ]
  },
  {
   "cell_type": "code",
   "execution_count": 36,
   "metadata": {},
   "outputs": [
    {
     "data": {
      "text/plain": [
       "(array([0.21756556, 0.44161732, 0.50974526, 0.85163293, 0.85734921,\n",
       "        1.01031809, 1.17190402, 1.19563798, 1.38548013, 1.49184697,\n",
       "        1.60938069, 1.65932136, 1.6840032 , 1.7531086 , 1.78286188,\n",
       "        1.87408319, 1.87547566, 1.9890706 , 2.07647875, 2.35181481,\n",
       "        2.71670314, 2.8117265 , 2.83676904, 2.92323574, 3.01439694,\n",
       "        3.13930461, 3.20042916, 3.21977363, 3.24817411, 3.26287922,\n",
       "        3.38577279, 3.61416299, 3.69091418, 3.76314996, 3.78152916,\n",
       "        3.78332724, 3.8548763 , 3.87466755, 3.94124636, 4.04184095,\n",
       "        4.13966008, 4.18730537, 4.22522431, 4.32472361, 4.45385867,\n",
       "        4.74518278, 4.8125445 , 4.87230785, 4.91622024, 4.97493629,\n",
       "        5.03411506, 5.25674189, 5.43141833, 5.5204383 , 5.8487616 ,\n",
       "        6.00158283, 6.14433528, 6.20296629, 6.26327895, 6.31270918,\n",
       "        6.38658355, 6.42981432, 6.60836284, 6.77460317, 6.78584329,\n",
       "        6.840366  , 6.98682269, 7.09188367, 7.13599182, 7.14748188,\n",
       "        7.29924503, 7.56175759, 7.59308317, 7.68032107, 8.11004619,\n",
       "        8.1490706 , 8.15399316, 8.30098606, 8.32605221, 8.39245417,\n",
       "        8.48996912, 8.51343921, 8.67885522, 8.7777308 , 8.84165116,\n",
       "        8.90217593, 8.91438332, 9.12334296, 9.14435624, 9.17334175,\n",
       "        9.19973779, 9.37105665, 9.39025843, 9.42838227, 9.47175732,\n",
       "        9.50275745, 9.54613496, 9.66008581, 9.74939741, 9.98789525]),\n",
       " array([1, 1, 1, 1, 1, 1, 1, 1, 1, 1, 1, 1, 1, 1, 1, 1, 1, 1, 1, 1, 1, 1,\n",
       "        1, 1, 1, 1, 1, 1, 1, 1, 1, 1, 1, 1, 1, 1, 1, 1, 1, 1, 1, 1, 1, 1,\n",
       "        1, 1, 1, 1, 1, 1, 1, 1, 1, 1, 1, 1, 1, 1, 1, 1, 1, 1, 1, 1, 1, 1,\n",
       "        1, 1, 1, 1, 1, 1, 1, 1, 1, 1, 1, 1, 1, 1, 1, 1, 1, 1, 1, 1, 1, 1,\n",
       "        1, 1, 1, 1, 1, 1, 1, 1, 1, 1, 1, 1], dtype=int64),\n",
       " 100,\n",
       " 100)"
      ]
     },
     "execution_count": 36,
     "metadata": {},
     "output_type": "execute_result"
    }
   ],
   "source": [
    "# Get the counts.\n",
    "values, counts =np.unique(x, return_counts=True)\n",
    "\n",
    "# show values and counts\n",
    "values, counts, values.size, counts.size "
   ]
  },
  {
   "cell_type": "code",
   "execution_count": 40,
   "metadata": {},
   "outputs": [
    {
     "data": {
      "text/plain": [
       "<BarContainer object of 100 artists>"
      ]
     },
     "execution_count": 40,
     "metadata": {},
     "output_type": "execute_result"
    },
    {
     "data": {
      "image/png": "[encoded data removed]",
      "text/plain": [
       "<Figure size 640x480 with 1 Axes>"
      ]
     },
     "metadata": {},
     "output_type": "display_data"
    }
   ],
   "source": [
    "# Plot the bar chart.\n",
    "plt.bar(values, counts)"
   ]
  },
  {
   "cell_type": "markdown",
   "metadata": {},
   "source": [
    "## Standard Normal\n",
    "***"
   ]
  },
  {
   "cell_type": "code",
   "execution_count": 47,
   "metadata": {},
   "outputs": [
    {
     "data": {
      "text/plain": [
       "array([ 0.72753731,  0.16089657,  1.62033834, ...,  0.94761637,\n",
       "       -1.44767259,  1.14899028])"
      ]
     },
     "execution_count": 47,
     "metadata": {},
     "output_type": "execute_result"
    }
   ],
   "source": [
    "# Generate an array of 10000 numbers\n",
    "x = rng.standard_normal(size = 10000)\n",
    "\n",
    "# Show.\n",
    "x"
   ]
  },
  {
   "cell_type": "code",
   "execution_count": 50,
   "metadata": {},
   "outputs": [
    {
     "data": {
      "text/plain": [
       "(array([   5.,   58.,  339., 1232., 2662., 2964., 1890.,  696.,  133.,\n",
       "          21.]),\n",
       " array([-4.04756998, -3.27149086, -2.49541175, -1.71933264, -0.94325353,\n",
       "        -0.16717441,  0.6089047 ,  1.38498381,  2.16106293,  2.93714204,\n",
       "         3.71322115]),\n",
       " <BarContainer object of 10 artists>)"
      ]
     },
     "execution_count": 50,
     "metadata": {},
     "output_type": "execute_result"
    },
    {
     "data": {
      "image/png": "[encoded data removed]",
      "text/plain": [
       "<Figure size 640x480 with 1 Axes>"
      ]
     },
     "metadata": {},
     "output_type": "display_data"
    }
   ],
   "source": [
    "plt.hist(x, edgecolor = \"black\")"
   ]
  },
  {
   "cell_type": "markdown",
   "metadata": {},
   "source": [
    "***\n",
    "#### End."
   ]
  }
 ],
 "metadata": {
  "kernelspec": {
   "display_name": "base",
   "language": "python",
   "name": "python3"
  },
  "language_info": {
   "codemirror_mode": {
    "name": "ipython",
    "version": 3
   },
   "file_extension": ".py",
   "mimetype": "text/x-python",
   "name": "python",
   "nbconvert_exporter": "python",
   "pygments_lexer": "ipython3",
   "version": "3.11.5"
  }
 },
 "nbformat": 4,
 "nbformat_minor": 2
}
