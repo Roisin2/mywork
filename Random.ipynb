{
 "cells": [
  {
   "cell_type": "markdown",
   "metadata": {},
   "source": [
    "# Random Numbers\n",
    "\n",
    "***"
   ]
  },
  {
   "cell_type": "markdown",
   "metadata": {},
   "source": [
    "## Prerequisites.\n",
    "***\n",
    "\n",
    "https://numpy.org/doc/stable/reference/random/index.html"
   ]
  },
  {
   "cell_type": "code",
   "execution_count": 9,
   "metadata": {},
   "outputs": [],
   "source": [
    "# Numerical arrays and Random numbers\n",
    "import numpy as np\n",
    "\n",
    "# plot\n",
    "import matplotlib.pyplot as plt\n"
   ]
  },
  {
   "cell_type": "markdown",
   "metadata": {},
   "source": []
  },
  {
   "cell_type": "markdown",
   "metadata": {},
   "source": [
    "## Generate Random Integers.\n",
    "***"
   ]
  },
  {
   "cell_type": "markdown",
   "metadata": {},
   "source": []
  },
  {
   "cell_type": "code",
   "execution_count": 3,
   "metadata": {},
   "outputs": [],
   "source": [
    "rng = np.random.default_rng()\n"
   ]
  },
  {
   "cell_type": "code",
   "execution_count": 4,
   "metadata": {},
   "outputs": [
    {
     "data": {
      "text/plain": [
       "0.7356169142216695"
      ]
     },
     "execution_count": 4,
     "metadata": {},
     "output_type": "execute_result"
    }
   ],
   "source": [
    "# Generate one random float uniformly distributed over the range [0, 1)\n",
    "rng.random()"
   ]
  },
  {
   "cell_type": "code",
   "execution_count": 5,
   "metadata": {},
   "outputs": [
    {
     "data": {
      "text/plain": [
       "array([-0.77238387, -1.03416514,  2.05020651,  1.68075413, -0.84765684,\n",
       "        0.89324418, -0.7253507 , -2.6555854 , -1.7752627 , -0.73870524])"
      ]
     },
     "execution_count": 5,
     "metadata": {},
     "output_type": "execute_result"
    }
   ],
   "source": [
    "# Generate an array of 10 numbers according to a unit Gaussian distribution.\n",
    "rng.standard_normal(10)"
   ]
  },
  {
   "cell_type": "code",
   "execution_count": 8,
   "metadata": {},
   "outputs": [
    {
     "data": {
      "text/plain": [
       "array([6, 2, 4, 3, 0, 8, 6, 3, 4, 1, 2, 6, 4, 8, 7, 0, 3, 0, 7, 1, 7, 2,\n",
       "       7, 5, 2, 1, 9, 9, 5, 6, 4, 8, 6, 4, 5, 4, 9, 2, 8, 5, 2, 8, 6, 7,\n",
       "       8, 3, 5, 0, 9, 0, 3, 9, 4, 7, 5, 0, 6, 4, 2, 8, 0, 0, 4, 1, 7, 5,\n",
       "       3, 8, 3, 5, 9, 9, 0, 6, 3, 3, 5, 7, 7, 7, 8, 5, 1, 4, 4, 9, 6, 2,\n",
       "       6, 1, 1, 9, 6, 8, 9, 8, 4, 1, 2, 1], dtype=int64)"
      ]
     },
     "execution_count": 8,
     "metadata": {},
     "output_type": "execute_result"
    }
   ],
   "source": [
    "# Generate an array of 5 integers uniformly over the range [0, 10).\n",
    "rng.integers(low=0, high=10, size=100)"
   ]
  },
  {
   "cell_type": "code",
   "execution_count": 11,
   "metadata": {},
   "outputs": [
    {
     "data": {
      "text/plain": [
       "array([9, 6, 5, ..., 4, 4, 2], dtype=int64)"
      ]
     },
     "execution_count": 11,
     "metadata": {},
     "output_type": "execute_result"
    }
   ],
   "source": [
    "# Generate 10,000 intergers  over the range [1, 10).\n",
    "x = rng.integers (low=0, high=10, size=10000) \n",
    "\n",
    "# Show x\n",
    "x\n",
    "\n"
   ]
  },
  {
   "cell_type": "code",
   "execution_count": 12,
   "metadata": {},
   "outputs": [
    {
     "data": {
      "text/plain": [
       "(array([0, 1, 2, 3, 4, 5, 6, 7, 8, 9], dtype=int64),\n",
       " array([ 963,  975, 1010, 1017, 1018,  942, 1039, 1014, 1005, 1017],\n",
       "       dtype=int64))"
      ]
     },
     "execution_count": 12,
     "metadata": {},
     "output_type": "execute_result"
    }
   ],
   "source": [
    "# Get the counts.\n",
    "values, counts =np.unique(x, return_counts=True)\n",
    "\n",
    "# show values and counts\n",
    "values, counts"
   ]
  },
  {
   "cell_type": "code",
   "execution_count": 13,
   "metadata": {},
   "outputs": [
    {
     "data": {
      "text/plain": [
       "<BarContainer object of 10 artists>"
      ]
     },
     "execution_count": 13,
     "metadata": {},
     "output_type": "execute_result"
    },
    {
     "data": {
      "image/png": "[encoded data removed]",
      "text/plain": [
       "<Figure size 640x480 with 1 Axes>"
      ]
     },
     "metadata": {},
     "output_type": "display_data"
    }
   ],
   "source": [
    "# Plot Bar Chart \n",
    "plt.bar(values, counts)"
   ]
  },
  {
   "cell_type": "markdown",
   "metadata": {},
   "source": [
    "# Uniform Distribution\n",
    "***"
   ]
  },
  {
   "cell_type": "code",
   "execution_count": 18,
   "metadata": {},
   "outputs": [
    {
     "data": {
      "text/plain": [
       "array([8.74291709, 8.63902251, 5.13382396, ..., 4.7051138 , 6.5746443 ,\n",
       "       4.25864638])"
      ]
     },
     "execution_count": 18,
     "metadata": {},
     "output_type": "execute_result"
    }
   ],
   "source": [
    "# Generate 10000 floats uniformly distributedover the range [0,10). \n",
    "x =rng.uniform(low=0.0, high=10.0, size = 10000)\n",
    "\n",
    "# show\n",
    "x"
   ]
  },
  {
   "cell_type": "code",
   "execution_count": 17,
   "metadata": {},
   "outputs": [
    {
     "data": {
      "text/plain": [
       "(array([0.02511851, 0.05731956, 0.09023249, 0.11245191, 0.26159168,\n",
       "        0.35422719, 0.46485054, 0.5996547 , 0.76486499, 0.77608954,\n",
       "        0.85554856, 1.25595114, 1.25868231, 1.28758219, 1.3232672 ,\n",
       "        1.43258398, 1.44146405, 1.47707223, 1.4899198 , 1.57922008,\n",
       "        1.72771723, 1.76090789, 1.99845067, 2.38426401, 2.4202851 ,\n",
       "        2.43084213, 2.4379686 , 2.60320712, 2.64664978, 2.68737343,\n",
       "        2.72928264, 2.88357577, 3.03867396, 3.06035699, 3.12685866,\n",
       "        3.2196459 , 3.74732777, 3.80567712, 3.81247242, 4.02030316,\n",
       "        4.02770946, 4.21830019, 4.2253585 , 4.27074866, 4.28406987,\n",
       "        4.32937772, 4.70222718, 4.77088452, 4.80775656, 4.81684706,\n",
       "        4.89372323, 5.21092544, 5.21732958, 5.46734593, 5.47208302,\n",
       "        5.50771641, 5.5275238 , 5.57898923, 6.01433473, 6.16291485,\n",
       "        6.18159349, 6.33682208, 6.40375544, 6.6861047 , 6.71351629,\n",
       "        6.84571274, 6.8628791 , 6.92394894, 7.01999116, 7.07233917,\n",
       "        7.1458282 , 7.17723431, 7.2437739 , 7.44783453, 7.47790435,\n",
       "        7.63356048, 7.66351262, 7.71467555, 7.7169035 , 7.7613285 ,\n",
       "        7.79203601, 8.17024497, 8.2890073 , 8.35686345, 8.62558533,\n",
       "        8.62582374, 8.70760483, 8.8494662 , 8.88434634, 8.98168542,\n",
       "        9.00704153, 9.08982265, 9.10310587, 9.10621317, 9.2062256 ,\n",
       "        9.66643701, 9.67718347, 9.74453717, 9.75360511, 9.94526844]),\n",
       " array([1, 1, 1, 1, 1, 1, 1, 1, 1, 1, 1, 1, 1, 1, 1, 1, 1, 1, 1, 1, 1, 1,\n",
       "        1, 1, 1, 1, 1, 1, 1, 1, 1, 1, 1, 1, 1, 1, 1, 1, 1, 1, 1, 1, 1, 1,\n",
       "        1, 1, 1, 1, 1, 1, 1, 1, 1, 1, 1, 1, 1, 1, 1, 1, 1, 1, 1, 1, 1, 1,\n",
       "        1, 1, 1, 1, 1, 1, 1, 1, 1, 1, 1, 1, 1, 1, 1, 1, 1, 1, 1, 1, 1, 1,\n",
       "        1, 1, 1, 1, 1, 1, 1, 1, 1, 1, 1, 1], dtype=int64),\n",
       " 100)"
      ]
     },
     "execution_count": 17,
     "metadata": {},
     "output_type": "execute_result"
    }
   ],
   "source": [
    "# Get the counts.\n",
    "values, counts =np.unique(x, return_counts=True)\n",
    "\n",
    "# show values and counts\n",
    "values, counts, counts.size "
   ]
  },
  {
   "cell_type": "code",
   "execution_count": null,
   "metadata": {},
   "outputs": [],
   "source": []
  },
  {
   "cell_type": "markdown",
   "metadata": {},
   "source": [
    "***\n",
    "#### End."
   ]
  }
 ],
 "metadata": {
  "kernelspec": {
   "display_name": "base",
   "language": "python",
   "name": "python3"
  },
  "language_info": {
   "codemirror_mode": {
    "name": "ipython",
    "version": 3
   },
   "file_extension": ".py",
   "mimetype": "text/x-python",
   "name": "python",
   "nbconvert_exporter": "python",
   "pygments_lexer": "ipython3",
   "version": "3.11.5"
  }
 },
 "nbformat": 4,
 "nbformat_minor": 2
}
