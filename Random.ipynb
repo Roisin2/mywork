{
 "cells": [
  {
   "cell_type": "markdown",
   "metadata": {},
   "source": [
    "# Random Numbers\n",
    "\n",
    "***"
   ]
  },
  {
   "cell_type": "markdown",
   "metadata": {},
   "source": [
    "## Prerequisites.\n",
    "***\n",
    "\n",
    "https://numpy.org/doc/stable/reference/random/index.html"
   ]
  },
  {
   "cell_type": "code",
   "execution_count": 16,
   "metadata": {},
   "outputs": [],
   "source": [
    "# Numerical arrays and Random numbers\n",
    "import numpy as np\n",
    "\n",
    "# plot\n",
    "import matplotlib.pyplot as plt\n"
   ]
  },
  {
   "cell_type": "markdown",
   "metadata": {},
   "source": [
    "## Generate Random Integers.\n",
    "***"
   ]
  },
  {
   "cell_type": "code",
   "execution_count": 17,
   "metadata": {},
   "outputs": [],
   "source": [
    "rng = np.random.default_rng()\n"
   ]
  },
  {
   "cell_type": "code",
   "execution_count": 18,
   "metadata": {},
   "outputs": [
    {
     "data": {
      "text/plain": [
       "0.38050538477838236"
      ]
     },
     "execution_count": 18,
     "metadata": {},
     "output_type": "execute_result"
    }
   ],
   "source": [
    "# Generate one random float uniformly distributed over the range [0, 1)\n",
    "rng.random()"
   ]
  },
  {
   "cell_type": "code",
   "execution_count": 19,
   "metadata": {},
   "outputs": [
    {
     "data": {
      "text/plain": [
       "array([-0.04009449, -0.66808486, -0.09759543,  0.34343782, -0.94727413,\n",
       "        0.99197694,  1.72560176, -0.16577111,  0.46911938,  1.35305175])"
      ]
     },
     "execution_count": 19,
     "metadata": {},
     "output_type": "execute_result"
    }
   ],
   "source": [
    "# Generate an array of 10 numbers according to a unit Gaussian distribution.\n",
    "rng.standard_normal(10)"
   ]
  },
  {
   "cell_type": "code",
   "execution_count": 20,
   "metadata": {},
   "outputs": [
    {
     "data": {
      "text/plain": [
       "array([0, 5, 4, 7, 9, 0, 4, 2, 5, 7, 4, 0, 2, 8, 0, 0, 3, 0, 0, 9, 8, 6,\n",
       "       3, 4, 5, 9, 6, 6, 8, 3, 9, 4, 0, 6, 9, 8, 8, 4, 5, 5, 8, 2, 3, 0,\n",
       "       0, 9, 6, 6, 9, 2, 8, 4, 8, 7, 9, 2, 1, 4, 4, 5, 7, 4, 4, 5, 6, 7,\n",
       "       0, 7, 3, 4, 1, 0, 0, 2, 0, 3, 3, 1, 6, 1, 1, 5, 2, 5, 6, 0, 7, 8,\n",
       "       9, 1, 4, 5, 8, 1, 0, 6, 3, 2, 9, 2], dtype=int64)"
      ]
     },
     "execution_count": 20,
     "metadata": {},
     "output_type": "execute_result"
    }
   ],
   "source": [
    "# Generate an array of 5 integers uniformly over the range [0, 10).\n",
    "rng.integers(low=0, high=10, size=100)"
   ]
  },
  {
   "cell_type": "code",
   "execution_count": 21,
   "metadata": {},
   "outputs": [
    {
     "data": {
      "text/plain": [
       "array([7, 4, 5, ..., 6, 1, 7], dtype=int64)"
      ]
     },
     "execution_count": 21,
     "metadata": {},
     "output_type": "execute_result"
    }
   ],
   "source": [
    "# Generate 10,000 integers over the range [0, 10).\n",
    "x = rng.integers (low=1, high=10, size=10000, endpoint=True) \n",
    "\n",
    "# Show x\n",
    "x\n",
    "\n"
   ]
  },
  {
   "cell_type": "code",
   "execution_count": 22,
   "metadata": {},
   "outputs": [
    {
     "data": {
      "text/plain": [
       "(array([ 1,  2,  3,  4,  5,  6,  7,  8,  9, 10], dtype=int64),\n",
       " array([ 951,  976,  952, 1044,  975, 1039,  947, 1035, 1043, 1038],\n",
       "       dtype=int64))"
      ]
     },
     "execution_count": 22,
     "metadata": {},
     "output_type": "execute_result"
    }
   ],
   "source": [
    "# Get the counts.\n",
    "values, counts =np.unique(x, return_counts=True)\n",
    "\n",
    "# show values and counts\n",
    "values, counts"
   ]
  },
  {
   "cell_type": "code",
   "execution_count": 23,
   "metadata": {},
   "outputs": [
    {
     "data": {
      "text/plain": [
       "<BarContainer object of 10 artists>"
      ]
     },
     "execution_count": 23,
     "metadata": {},
     "output_type": "execute_result"
    },
    {
     "data": {
      "image/png": "[encoded data removed]",
      "text/plain": [
       "<Figure size 640x480 with 1 Axes>"
      ]
     },
     "metadata": {},
     "output_type": "display_data"
    }
   ],
   "source": [
    "# Plot Bar Chart \n",
    "plt.bar(values, counts)"
   ]
  },
  {
   "cell_type": "markdown",
   "metadata": {},
   "source": [
    "# Uniform Distribution\n",
    "***"
   ]
  },
  {
   "cell_type": "code",
   "execution_count": 24,
   "metadata": {},
   "outputs": [
    {
     "data": {
      "text/plain": [
       "array([7.83549157, 7.99189163, 6.98239995, ..., 2.80896566, 6.94420991,\n",
       "       0.03145948])"
      ]
     },
     "execution_count": 24,
     "metadata": {},
     "output_type": "execute_result"
    }
   ],
   "source": [
    "# Generate 10000 floats uniformly distributed over the range [0,10). \n",
    "x = rng.uniform(low=0.0, high=10.0, size = 10000)\n",
    "\n",
    "# show\n",
    "x"
   ]
  },
  {
   "cell_type": "code",
   "execution_count": 25,
   "metadata": {},
   "outputs": [
    {
     "data": {
      "text/plain": [
       "(array([4.08912218e-04, 7.16975158e-04, 1.86295154e-03, ...,\n",
       "        9.99746751e+00, 9.99861062e+00, 9.99942163e+00]),\n",
       " array([1, 1, 1, ..., 1, 1, 1], dtype=int64),\n",
       " 10000,\n",
       " 10000)"
      ]
     },
     "execution_count": 25,
     "metadata": {},
     "output_type": "execute_result"
    }
   ],
   "source": [
    "# Get the counts.\n",
    "values, counts =np.unique(x, return_counts=True)\n",
    "\n",
    "# show values and counts\n",
    "values, counts, values.size, counts.size "
   ]
  },
  {
   "cell_type": "code",
   "execution_count": 26,
   "metadata": {},
   "outputs": [
    {
     "data": {
      "text/plain": [
       "array([6.4104501 , 2.52563715, 4.10076765, 5.08521637, 0.44082988,\n",
       "       1.22763832, 3.79876806, 6.40322906, 2.83068218, 8.1349662 ,\n",
       "       4.20644605, 8.37338659, 7.78825071, 1.26557283, 1.06088384,\n",
       "       7.41738013, 1.5716942 , 0.91688722, 8.90108268, 3.73468993,\n",
       "       3.93872562, 6.36223591, 5.92694694, 1.09572008, 4.18096547,\n",
       "       5.46063722, 4.82964984, 6.67251519, 7.81325524, 4.15622635,\n",
       "       2.54138271, 6.13561309, 0.99339596, 6.01236127, 8.61478775,\n",
       "       9.39615104, 0.30167128, 7.01156388, 7.04776767, 0.49940033,\n",
       "       4.3271549 , 1.79219963, 6.3509649 , 3.08311167, 5.14660878,\n",
       "       4.95358194, 7.82206498, 6.5388582 , 2.68718458, 8.90020592,\n",
       "       2.00850285, 9.41618193, 9.42266565, 0.81948167, 8.12135931,\n",
       "       3.03474391, 6.84809896, 0.11790727, 9.25680067, 3.12062726,\n",
       "       0.31325034, 8.03545345, 4.54683367, 3.94436673, 7.48944579,\n",
       "       3.19057116, 1.20501632, 6.35881005, 1.81787472, 5.09673701,\n",
       "       4.13576025, 3.86516611, 3.36784682, 6.0212308 , 3.0759421 ,\n",
       "       5.1687412 , 1.85446793, 2.91107737, 1.43540624, 4.9908254 ,\n",
       "       5.48493308, 9.64589252, 7.2845507 , 5.60937246, 9.36318876,\n",
       "       1.41989428, 8.23224543, 2.45868334, 1.49039234, 4.29592754,\n",
       "       6.25761483, 4.70192425, 2.05047863, 3.83343867, 5.29375549,\n",
       "       8.13655853, 6.82676104, 5.96816827, 8.13634394, 2.13042534])"
      ]
     },
     "execution_count": 26,
     "metadata": {},
     "output_type": "execute_result"
    }
   ],
   "source": [
    "# Generate 100 floats uniformly distributed over the range [0,10). \n",
    "x = rng.uniform(low=0.0, high=10.0, size = 100)\n",
    "\n",
    "# show\n",
    "x"
   ]
  },
  {
   "cell_type": "code",
   "execution_count": 27,
   "metadata": {},
   "outputs": [
    {
     "data": {
      "text/plain": [
       "(array([0.11790727, 0.30167128, 0.31325034, 0.44082988, 0.49940033,\n",
       "        0.81948167, 0.91688722, 0.99339596, 1.06088384, 1.09572008,\n",
       "        1.20501632, 1.22763832, 1.26557283, 1.41989428, 1.43540624,\n",
       "        1.49039234, 1.5716942 , 1.79219963, 1.81787472, 1.85446793,\n",
       "        2.00850285, 2.05047863, 2.13042534, 2.45868334, 2.52563715,\n",
       "        2.54138271, 2.68718458, 2.83068218, 2.91107737, 3.03474391,\n",
       "        3.0759421 , 3.08311167, 3.12062726, 3.19057116, 3.36784682,\n",
       "        3.73468993, 3.79876806, 3.83343867, 3.86516611, 3.93872562,\n",
       "        3.94436673, 4.10076765, 4.13576025, 4.15622635, 4.18096547,\n",
       "        4.20644605, 4.29592754, 4.3271549 , 4.54683367, 4.70192425,\n",
       "        4.82964984, 4.95358194, 4.9908254 , 5.08521637, 5.09673701,\n",
       "        5.14660878, 5.1687412 , 5.29375549, 5.46063722, 5.48493308,\n",
       "        5.60937246, 5.92694694, 5.96816827, 6.01236127, 6.0212308 ,\n",
       "        6.13561309, 6.25761483, 6.3509649 , 6.35881005, 6.36223591,\n",
       "        6.40322906, 6.4104501 , 6.5388582 , 6.67251519, 6.82676104,\n",
       "        6.84809896, 7.01156388, 7.04776767, 7.2845507 , 7.41738013,\n",
       "        7.48944579, 7.78825071, 7.81325524, 7.82206498, 8.03545345,\n",
       "        8.12135931, 8.1349662 , 8.13634394, 8.13655853, 8.23224543,\n",
       "        8.37338659, 8.61478775, 8.90020592, 8.90108268, 9.25680067,\n",
       "        9.36318876, 9.39615104, 9.41618193, 9.42266565, 9.64589252]),\n",
       " array([1, 1, 1, 1, 1, 1, 1, 1, 1, 1, 1, 1, 1, 1, 1, 1, 1, 1, 1, 1, 1, 1,\n",
       "        1, 1, 1, 1, 1, 1, 1, 1, 1, 1, 1, 1, 1, 1, 1, 1, 1, 1, 1, 1, 1, 1,\n",
       "        1, 1, 1, 1, 1, 1, 1, 1, 1, 1, 1, 1, 1, 1, 1, 1, 1, 1, 1, 1, 1, 1,\n",
       "        1, 1, 1, 1, 1, 1, 1, 1, 1, 1, 1, 1, 1, 1, 1, 1, 1, 1, 1, 1, 1, 1,\n",
       "        1, 1, 1, 1, 1, 1, 1, 1, 1, 1, 1, 1], dtype=int64),\n",
       " 100,\n",
       " 100)"
      ]
     },
     "execution_count": 27,
     "metadata": {},
     "output_type": "execute_result"
    }
   ],
   "source": [
    "# Get the counts.\n",
    "values, counts =np.unique(x, return_counts=True)\n",
    "\n",
    "# show values and counts\n",
    "values, counts, values.size, counts.size "
   ]
  },
  {
   "cell_type": "code",
   "execution_count": 28,
   "metadata": {},
   "outputs": [
    {
     "data": {
      "text/plain": [
       "<BarContainer object of 100 artists>"
      ]
     },
     "execution_count": 28,
     "metadata": {},
     "output_type": "execute_result"
    },
    {
     "data": {
      "image/png": "[encoded data removed]",
      "text/plain": [
       "<Figure size 640x480 with 1 Axes>"
      ]
     },
     "metadata": {},
     "output_type": "display_data"
    }
   ],
   "source": [
    "# Plot the bar chart.\n",
    "plt.bar(values, counts)"
   ]
  },
  {
   "cell_type": "markdown",
   "metadata": {},
   "source": [
    "## Standard Normal\n",
    "***"
   ]
  },
  {
   "cell_type": "code",
   "execution_count": 29,
   "metadata": {},
   "outputs": [
    {
     "data": {
      "text/plain": [
       "array([ 0.32661416, -0.04712294, -0.7238979 , ...,  1.04928527,\n",
       "        1.92714693, -0.72912004])"
      ]
     },
     "execution_count": 29,
     "metadata": {},
     "output_type": "execute_result"
    }
   ],
   "source": [
    "# Generate an array of 10000 numbers\n",
    "x = rng.standard_normal(size = 10000)\n",
    "\n",
    "# Show.\n",
    "x"
   ]
  },
  {
   "cell_type": "code",
   "execution_count": 30,
   "metadata": {},
   "outputs": [
    {
     "data": {
      "text/plain": [
       "(array([  16.,   94.,  435., 1397., 2608., 2776., 1794.,  704.,  146.,\n",
       "          30.]),\n",
       " array([-3.7698246 , -3.03677781, -2.30373101, -1.57068421, -0.83763741,\n",
       "        -0.10459062,  0.62845618,  1.36150298,  2.09454978,  2.82759657,\n",
       "         3.56064337]),\n",
       " <BarContainer object of 10 artists>)"
      ]
     },
     "execution_count": 30,
     "metadata": {},
     "output_type": "execute_result"
    },
    {
     "data": {
      "image/png": "[encoded data removed]",
      "text/plain": [
       "<Figure size 640x480 with 1 Axes>"
      ]
     },
     "metadata": {},
     "output_type": "display_data"
    }
   ],
   "source": [
    "plt.hist(x, edgecolor = \"black\")"
   ]
  },
  {
   "cell_type": "markdown",
   "metadata": {},
   "source": [
    "***\n",
    "#### End."
   ]
  }
 ],
 "metadata": {
  "kernelspec": {
   "display_name": "base",
   "language": "python",
   "name": "python3"
  },
  "language_info": {
   "codemirror_mode": {
    "name": "ipython",
    "version": 3
   },
   "file_extension": ".py",
   "mimetype": "text/x-python",
   "name": "python",
   "nbconvert_exporter": "python",
   "pygments_lexer": "ipython3",
   "version": "3.11.5"
  }
 },
 "nbformat": 4,
 "nbformat_minor": 2
}
