{
 "cells": [
  {
   "cell_type": "markdown",
   "metadata": {},
   "source": [
    "# Palmer Penguins\n",
    "\n",
    "![Palmer](https://upload.wikimedia.org/wikipedia/commons/thumb/2/24/Antarctica_relief_location_map.jpg/480px-Antarctica_relief_location_map.jpg).\n",
    "\n",
    "This notebook contains my analysis of the famous Palmer Penguins dataset.\n",
    "The 3 categorical values are species :3, island :3 and sex :2.\n",
    " There are 4 continuous variables which are bill_length_mm, showing length of the culmen /bill. Bill_depth_mm, showing the depth. The flipper_length_mm, showing length of the flipper. And body_mass_g, showing mass in grams. Year is a discrete variable also.\n",
    "I have concentrated on the bill length and depth. The reason for this that they are both continuous variables in the same measurement type (mm).\n",
    "\n",
    "The data set is available [onGitHub](https://allisonhorst.github.io/palmerpenguins/).\n",
    "\n",
    "I have looked at Allison Horst's work alot. Her graphs are beautiful and very elaborate.\n",
    "The work she did was through the \"R\" package and the visuals displayed are stunning.\n",
    "I believe some of my plots are similar. My scatter plot with bill length and depth seem to be very like the one she has."
   ]
  },
  {
   "cell_type": "markdown",
   "metadata": {},
   "source": [
    "### References.\n",
    "***\n",
    "https://github.com/allisonhorst/palmerpenguins\n",
    "\n",
    "https://www.researchgate.net/publication/362573623_Palmer_Archipelago_Penguins_Data_in_the_palmerpenguins_R_Package_-_An_Alternative_to_Anderson's_Irises\n",
    "\n",
    "https://www.datacamp.com/tutorial/types-of-data-plots-and-how-to-create-them-in-python\n",
    "\n",
    "https://www.adventuresinmachinelearning.com/plotting-the-perfect-line-of-best-fit-in-python/\n",
    "\n",
    "https://docs.scipy.org/doc/scipy/reference/generated/scipy.stats.linregress.html"
   ]
  },
  {
   "cell_type": "code",
   "execution_count": null,
   "metadata": {},
   "outputs": [],
   "source": [
    "# Libraries required and imported.\n",
    "import pandas as pd \n",
    "import numpy as np\n",
    "import matplotlib.pyplot as plt\n",
    "import seaborn as sns"
   ]
  },
  {
   "cell_type": "code",
   "execution_count": null,
   "metadata": {},
   "outputs": [],
   "source": [
    "# Load the Penguins Data Set\n",
    "df = pd.read_csv(\"https://raw.githubusercontent.com/mwaskom/seaborn-data/master/penguins.csv\")"
   ]
  },
  {
   "cell_type": "code",
   "execution_count": null,
   "metadata": {},
   "outputs": [],
   "source": [
    "# Let's have a look.\n",
    "df"
   ]
  },
  {
   "cell_type": "markdown",
   "metadata": {},
   "source": [
    "There are 7 Columns and 344 rows."
   ]
  },
  {
   "cell_type": "code",
   "execution_count": null,
   "metadata": {},
   "outputs": [],
   "source": [
    "# Lets look at the first row.\n",
    "df.iloc[0]"
   ]
  },
  {
   "cell_type": "markdown",
   "metadata": {},
   "source": [
    "With this information we can now see the variables: species, island, bill length, bill depth,\n",
    "flipper length, body mass and sex."
   ]
  },
  {
   "cell_type": "code",
   "execution_count": null,
   "metadata": {},
   "outputs": [],
   "source": [
    "# First 5 rows \n",
    "df.head"
   ]
  },
  {
   "cell_type": "code",
   "execution_count": null,
   "metadata": {},
   "outputs": [],
   "source": [
    "# Last 5 rows \n",
    "df.tail"
   ]
  },
  {
   "cell_type": "code",
   "execution_count": null,
   "metadata": {},
   "outputs": [],
   "source": [
    "# Inspect types\n",
    "df.dtypes"
   ]
  },
  {
   "cell_type": "markdown",
   "metadata": {},
   "source": [
    "Here it can be seen which variables have decimal number information i.e length and weight variables."
   ]
  },
  {
   "cell_type": "code",
   "execution_count": null,
   "metadata": {},
   "outputs": [],
   "source": [
    "# Sex of the Penguins\n",
    "df[\"sex\"]"
   ]
  },
  {
   "cell_type": "code",
   "execution_count": null,
   "metadata": {},
   "outputs": [],
   "source": [
    "# Count the number of Penguins of each sex.\n",
    "sex_count = df[\"sex\"].value_counts ()"
   ]
  },
  {
   "cell_type": "code",
   "execution_count": null,
   "metadata": {},
   "outputs": [],
   "source": [
    "# Generating a bar chart showing male and female penguins. ( bar charts are useful for comparing categorical values)\n",
    "plt.figure(figsize = (8, 6))\n",
    "sex_count.plot(kind = \"bar\", color =[\"blue\",\"pink\"])\n",
    "plt.title(\"Count of Penguins by Sex\") \n",
    "plt.xlabel(\"sex\")\n",
    "plt.ylabel(\"count\")\n",
    "plt.xticks(rotation=0) # not strictly needed here but useful bit of code if bars overlap\n",
    "plt.tight_layout() # helps keep plt elements fitting well within figure area\n",
    "plt.show()                                       "
   ]
  },
  {
   "cell_type": "code",
   "execution_count": null,
   "metadata": {},
   "outputs": [],
   "source": [
    "# Describe the Data Set\n",
    "df.describe()"
   ]
  },
  {
   "cell_type": "markdown",
   "metadata": {},
   "source": [
    "Now with the information above we can see how the information is distributed. The count stands at 342. It shows the mean, standard deviation, the min and max values and also the percentages.\n",
    "\n",
    "The mean in (mm) for Bill Length is 43.921930.\n",
    "The mean in (mm) for Bill Depth is 17.151170.\n",
    "The mean in (mm) for Flipper Length is 200.915205.\n",
    "The mean in (grams) for Body Mass is 4201.754386."
   ]
  },
  {
   "cell_type": "code",
   "execution_count": null,
   "metadata": {},
   "outputs": [],
   "source": [
    "# lets look at the species\n",
    "df.species.value_counts()"
   ]
  },
  {
   "cell_type": "markdown",
   "metadata": {},
   "source": [
    "In Species, there are 3 and their quantity. Adelie with 152, Gentoo with 124 and Chinstrap with 68."
   ]
  },
  {
   "cell_type": "markdown",
   "metadata": {},
   "source": [
    "### Tables\n",
    "\n",
    "***\n",
    "\n",
    "| Species     || Bill Length (mm) | Body Mass (g) |\n",
    "| ------------|| ---------------- | ------------- |\n",
    "| Adelie      ||              38.8|           3701|\n",
    "| Chinstrap   ||              48.8|           3733|\n",
    "| Gentoo      ||              47.5|           5076|"
   ]
  },
  {
   "cell_type": "code",
   "execution_count": null,
   "metadata": {},
   "outputs": [],
   "source": [
    "# Generate a box plot to show the body mass by species  (seaborn used to create the box plot)\n",
    "sns.boxplot(data=df, x='species', y='body_mass_g')\n",
    "plt.xlabel('Species')\n",
    "plt.ylabel('Body Mass(grams)')\n",
    "plt.title('Box Plot of Body Mass by Species')\n",
    "plt.show()"
   ]
  },
  {
   "cell_type": "markdown",
   "metadata": {},
   "source": [
    "With the above box plot the body mass of the 3 Species can be seen.\n",
    "Box plots are useful to show distribution of numeric variables and suspected outliers can be identified. Median values across different catagories can be observed. There appears to be outliers for the Chinstrap Species. Gentoo species are large! It would be hard to mistake them based on their body mass."
   ]
  },
  {
   "cell_type": "markdown",
   "metadata": {},
   "source": [
    "### Selection of two variables from the data set and an analysis of how correlated they are.\n",
    "***"
   ]
  },
  {
   "cell_type": "code",
   "execution_count": null,
   "metadata": {},
   "outputs": [],
   "source": [
    "# Get just the bill Length\n",
    "bill_len = df[\"bill_length_mm\"]\n",
    "\n",
    "# Show\n",
    "print(bill_len)\n",
    "\n",
    "# Type\n",
    "print(type(bill_len))"
   ]
  },
  {
   "cell_type": "code",
   "execution_count": null,
   "metadata": {},
   "outputs": [],
   "source": [
    "# Just get the numpy array\n",
    "bill_len = bill_len.to_numpy()\n",
    "\n",
    "# Show\n",
    "bill_len"
   ]
  },
  {
   "cell_type": "code",
   "execution_count": null,
   "metadata": {},
   "outputs": [],
   "source": [
    "# Bill Depth.\n",
    "b_depth = df[\"bill_depth_mm\"].to_numpy()\n",
    "\n",
    "# show.\n",
    "b_depth"
   ]
  },
  {
   "cell_type": "code",
   "execution_count": null,
   "metadata": {},
   "outputs": [],
   "source": [
    "# Generate Histogram for bill length.\n",
    "plt.hist(bill_len, color = \"purple\", edgecolor = \"black\")\n",
    "plt.title(\" Histogram of Bill Length\")\n"
   ]
  },
  {
   "cell_type": "markdown",
   "metadata": {},
   "source": [
    "Histograms are used to show distribution of a continuous/numeric variable. They are useful for looking at the range of numeric values and for detecting outliers. They can indicate whether information is normal, symmetric or skewed.\n"
   ]
  },
  {
   "cell_type": "code",
   "execution_count": null,
   "metadata": {},
   "outputs": [],
   "source": [
    "# Simple Scatter Plot. (using matplotlib)\n",
    "plt.plot(bill_len, b_depth, \"x\")\n",
    "\n",
    "# Axis Labels.\n",
    "plt.xlabel(\"Bill Length (mm)\")\n",
    "plt.ylabel(\"Bill Depth(mm)\")\n",
    "\n",
    "# Title\n",
    "plt.title(\"Palmer Penguin Data Set\")\n"
   ]
  },
  {
   "cell_type": "markdown",
   "metadata": {},
   "source": [
    "I believe the above scatter plot is similar to one shown on Github in Alison Horst's work."
   ]
  },
  {
   "cell_type": "code",
   "execution_count": null,
   "metadata": {},
   "outputs": [],
   "source": [
    "# flipper Length\n",
    "flip_len = df[\"flipper_length_mm\"]\n",
    "\n",
    "# Created a scatter plot (changing style and color of markers, legend grid title and labels)\n",
    "plt.figure(figsize=(8, 6))\n",
    "plt.scatter(bill_len, b_depth, s=50, c = \"magenta\", marker ='D', label='Diamond')\n",
    "plt.scatter(bill_len, flip_len, s = 50, c =\"coral\", marker= 'H', label='Hexagon')\n",
    "plt.scatter(b_depth, flip_len, s = 50, c = \"aqua\", marker ='*', label ='Star')\n",
    "plt.title(\" Palmer Penguins Physical Features\")\n",
    "plt.xlabel(\"Bill length\")\n",
    "plt.ylabel(\"Measurements\")\n",
    "plt.grid(\"TRUE\")\n",
    "plt.legend()\n",
    "plt.show"
   ]
  },
  {
   "cell_type": "markdown",
   "metadata": {},
   "source": [
    "The diamonds in the color magenta show the relationship with Bill Length and Bill Depth. They are tightly bunched in an almost horizontal line.\n",
    "\n",
    "The hexagons in the color coral show the relationship with Bill Length and Flipper Length. There are some outliers visable here.\n",
    "\n",
    "The stars in the color aqua show the relationship with Bill Depth and Flipper Length. They have two small groupings.\n",
    "\n",
    "This holds some similarities to work shown on [researchgate](https://www.researchgate.net/publication/362573623_Palmer_Archipelago_Penguins_Data_in_the_palmerpenguins_R_Package_-_An_Alternative_to_Anderson's_Irises)"
   ]
  },
  {
   "cell_type": "markdown",
   "metadata": {},
   "source": [
    "While this is interesting I will now Look at bill depth and length by species. I feel this will be more insightful."
   ]
  },
  {
   "cell_type": "code",
   "execution_count": 72,
   "metadata": {},
   "outputs": [
    {
     "data": {
      "image/png": "[encoded data removed]",
      "text/plain": [
       "<Figure size 640x480 with 1 Axes>"
      ]
     },
     "metadata": {},
     "output_type": "display_data"
    }
   ],
   "source": [
    "# Data preparation \n",
    "# code from Data Camps(https://www.datacamp.com/tutorial/types-of-data-plots-and-how-to-create-them-in-python)\n",
    "penguins_grouped = df[['species', 'bill_length_mm']].groupby('species').mean().reset_index()\n",
    "\n",
    "# selecting 2 columns from the original penguins DataFrame: 'species' and 'bill_length_mm'. grouping the data,\n",
    "# by the 'species' column and calc the mean bill length for each species. Then reset the index, to create new DataFrame,\n",
    "# with 3 species and their corresponding average bill lengths.\n",
    "\n",
    "# Creating a bar chart\n",
    "plt.bar(penguins_grouped['species'], penguins_grouped['bill_length_mm'])\n",
    "plt.title('Average Penguin Bill length by Species')\n",
    "plt.show()"
   ]
  },
  {
   "cell_type": "markdown",
   "metadata": {},
   "source": [
    "Adelie have the shortest Bill Length. Chinstrap have very slightly longer bills than Gentoo."
   ]
  },
  {
   "cell_type": "code",
   "execution_count": 77,
   "metadata": {},
   "outputs": [
    {
     "data": {
      "image/png": "[encoded data removed]",
      "text/plain": [
       "<Figure size 640x480 with 1 Axes>"
      ]
     },
     "metadata": {},
     "output_type": "display_data"
    }
   ],
   "source": [
    "# repeating above except looking at bill depth.\n",
    "penguins_grouped = df[['species', 'bill_depth_mm']].groupby('species').mean().reset_index()\n",
    "\n",
    "# Creating a bar chart\n",
    "plt.bar(penguins_grouped['species'], penguins_grouped['bill_depth_mm'])\n",
    "plt.title('Average Penguin Bill Depth by Species')\n",
    "plt.show()"
   ]
  },
  {
   "cell_type": "markdown",
   "metadata": {},
   "source": [
    "The Gentoo have flatter bills than Adelie and Chinstrap. "
   ]
  },
  {
   "cell_type": "code",
   "execution_count": 104,
   "metadata": {},
   "outputs": [
    {
     "data": {
      "text/plain": [
       "Text(0.5, 1.0, 'Palmer Penguin Data Set')"
      ]
     },
     "execution_count": 104,
     "metadata": {},
     "output_type": "execute_result"
    },
    {
     "data": {
      "image/png": "[encoded data removed]",
      "text/plain": [
       "<Figure size 640x480 with 1 Axes>"
      ]
     },
     "metadata": {},
     "output_type": "display_data"
    }
   ],
   "source": [
    "# closer inspection of the over all Bill\n",
    "# Simple Scatter Plot. (using matplotlib)\n",
    "plt.plot(bill_len, b_depth, \"D\")\n",
    "\n",
    "# Axis Labels.\n",
    "plt.xlabel(\"Bill Length (mm)\")\n",
    "plt.ylabel(\"Bill Depth(mm)\")\n",
    "\n",
    "# Title\n",
    "plt.title(\"Palmer Penguin Data Set\") \n",
    "\n",
    "\n"
   ]
  },
  {
   "cell_type": "markdown",
   "metadata": {},
   "source": [
    "#### Add Best Fit Line\n",
    "***"
   ]
  },
  {
   "cell_type": "code",
   "execution_count": 108,
   "metadata": {},
   "outputs": [
    {
     "name": "stdout",
     "output_type": "stream",
     "text": [
      "Correlation Coefficient: 0.9965\n"
     ]
    },
    {
     "data": {
      "image/png": "[encoded data removed]",
      "text/plain": [
       "<Figure size 800x600 with 1 Axes>"
      ]
     },
     "metadata": {},
     "output_type": "display_data"
    }
   ],
   "source": [
    "# import\n",
    "from scipy.stats import linregress\n",
    "\n",
    "bill_len = [1.5, 2.0, 2.5, 3.0, 3.5]\n",
    "b_depth = [0.5, 0.8, 1.0, 1.2, 1.5]\n",
    "\n",
    "# fitting the linear regression line / best fit line (the course example code wouldn't work so went in search of other option)\n",
    "# linregress function from scipy.stats cal the b/fit for the relationship with b.length and b.depth.\n",
    "# It makes the slope (regression coefficient), intercept, correlation coefficient, p-value, and standard error of the regression line.\n",
    "#The b/fit line is shown as bill_depth = slope * bill_length + intercept.\n",
    "\n",
    "slope, intercept, r_value, p_value, std_err = linregress(bill_len, b_depth)\n",
    "\n",
    "# Calc the correlation coefficient using np.corrcoef(bill_len, b_depth)[0, 1].\n",
    "#It measures the strength and direction of the linear relationship between the two variables.\n",
    "# ( value close to 1 indicates a strong positive correlation.)\n",
    "correlation_coefficient = np.corrcoef(bill_len, b_depth)[0, 1]\n",
    "\n",
    "# Plot the scatter plot\n",
    "plt.figure(figsize=(8, 6))\n",
    "plt.scatter(bill_len, b_depth, s=50, c=\"magenta\", marker='D', label='Diamond')\n",
    "plt.plot(bill_len, slope * np.array(bill_len) + intercept, color='r', label='Best Fit Line')\n",
    "plt.title(\"Palmer Penguins Physical Features\") # title\n",
    "plt.xlabel(\"Bill length\") #label\n",
    "plt.ylabel(\"Bill depth\")    # label\n",
    "plt.grid(True) # grid\n",
    "plt.legend()    #legend\n",
    "\n",
    "# show correlation coefficient\n",
    "print(f\"Correlation Coefficient: {correlation_coefficient:.4f}\") # floating point number with 4 decimal places.\n",
    "\n",
    "# Show the plot\n",
    "plt.show()"
   ]
  },
  {
   "cell_type": "markdown",
   "metadata": {},
   "source": [
    "Correlation Coefficient: 0.9965. There does seem to be close correlation as the number is close to 1. So i surmise that there is a close relationship between length and depth."
   ]
  },
  {
   "cell_type": "markdown",
   "metadata": {},
   "source": [
    "According to [Scribber](https://www.scribbr.com/statistics/correlation-coefficient/) \"The Pearson’s product-moment correlation coefficient, also known as Pearson’s r, describes the linear relationship between two quantitative variables.\n",
    "\n",
    "\"These are the assumptions your data must meet if you want to use Pearson’s r:\n",
    "\n",
    "Both variables are on an interval or ratio level of measurement\n",
    "Data from both variables follow normal distributions. Your data have no outliers. \n",
    "Your data is from a random or representative sample\n",
    "You expect a linear relationship between the two variables\n",
    "The Pearson’s r is a parametric test, so it has high power. But it’s not a good measure of correlation if your variables have a nonlinear relationship, or if your data have outliers, skewed distributions, or come from categorical variables. If any of these assumptions are violated, you should consider a rank correlation measure.\""
   ]
  },
  {
   "cell_type": "markdown",
   "metadata": {},
   "source": [
    "***\n",
    "###\n",
    "End."
   ]
  }
 ],
 "metadata": {
  "kernelspec": {
   "display_name": "base",
   "language": "python",
   "name": "python3"
  },
  "language_info": {
   "codemirror_mode": {
    "name": "ipython",
    "version": 3
   },
   "file_extension": ".py",
   "mimetype": "text/x-python",
   "name": "python",
   "nbconvert_exporter": "python",
   "pygments_lexer": "ipython3",
   "version": "3.11.5"
  }
 },
 "nbformat": 4,
 "nbformat_minor": 2
}
